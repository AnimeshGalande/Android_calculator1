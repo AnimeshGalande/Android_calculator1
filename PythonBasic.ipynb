{
  "nbformat": 4,
  "nbformat_minor": 0,
  "metadata": {
    "colab": {
      "name": "PythonBasic.ipynb",
      "provenance": [],
      "collapsed_sections": [],
      "authorship_tag": "ABX9TyPMf60N7Eg3Kq4FA3FyXp38",
      "include_colab_link": true
    },
    "kernelspec": {
      "name": "python3",
      "display_name": "Python 3"
    },
    "language_info": {
      "name": "python"
    }
  },
  "cells": [
    {
      "cell_type": "markdown",
      "metadata": {
        "id": "view-in-github",
        "colab_type": "text"
      },
      "source": [
        "<a href=\"https://colab.research.google.com/github/AnimeshGalande/Android_calculator1/blob/master/PythonBasic.ipynb\" target=\"_parent\"><img src=\"https://colab.research.google.com/assets/colab-badge.svg\" alt=\"Open In Colab\"/></a>"
      ]
    },
    {
      "cell_type": "markdown",
      "metadata": {
        "id": "9796CFqsVtYt"
      },
      "source": [
        "Data structure in python \n",
        "There are 4 basics data structure in python \n",
        "1. List\n",
        "2. Tuple\n",
        "3. Set\n",
        "4. Dictionary "
      ]
    },
    {
      "cell_type": "code",
      "metadata": {
        "colab": {
          "base_uri": "https://localhost:8080/"
        },
        "id": "imkoTuz1Ub5e",
        "outputId": "3ed64454-677e-47be-db69-bbc549487ec6"
      },
      "source": [
        " list = [1,2,3,'a','b','c']\n",
        "print(list)\n",
        "#indexing \n",
        "print(\"Return a element at specific index\")\n",
        "print(list[0])\n",
        "print(\"Return a element at specific index using index in backward direction\")\n",
        "print(list[-1])\n",
        "print(\"Return a elements from and to\")\n",
        "print(list[-2:])\n",
        "print(list[2:])\n",
        "print('list_name + appends the elements')\n",
        "print(list + [4,5,6])\n",
        "print(\"mutable property\")\n",
        "list[1] =4\n",
        "print(list)\n",
        "\n",
        "print(\"List function append(),count(),sort(),reverse(),pop(),index(),insert(),clear,copy(),extend(),remove()\")"
      ],
      "execution_count": null,
      "outputs": [
        {
          "output_type": "stream",
          "text": [
            "[1, 2, 3, 'a', 'b', 'c']\n",
            "Return a element at specific index\n",
            "1\n",
            "Return a element at specific index using index in backward direction\n",
            "c\n",
            "Return a elements from and to\n",
            "['b', 'c']\n",
            "[3, 'a', 'b', 'c']\n",
            "list_name + appends the elements\n",
            "[1, 2, 3, 'a', 'b', 'c', 4, 5, 6]\n",
            "mutable property\n",
            "[1, 4, 3, 'a', 'b', 'c']\n"
          ],
          "name": "stdout"
        }
      ]
    },
    {
      "cell_type": "code",
      "metadata": {
        "colab": {
          "base_uri": "https://localhost:8080/"
        },
        "id": "iIP8hYxaZ3DW",
        "outputId": "ea959fdf-c776-43f6-b758-fb7984d6ee53"
      },
      "source": [
        "a={65, 1, 48, 45} #only unique elements\n",
        "print(a)\n",
        "a.add(36)\n",
        "print(a)\n",
        "b ={1}\n",
        "print(b)\n",
        "b=a.copy()\n",
        "print(b)\n",
        "b.remove(1)\n",
        "print(a)\n",
        "b.pop()\n",
        "print(a)\n",
        "print(b)\n",
        "print(\"set functions \\n a\")\n",
        "print(a.intersection(b))\n",
        "print(a.difference(b))\n",
        "print(a.union(b))\n",
        "print(a.issubset(b))"
      ],
      "execution_count": null,
      "outputs": [
        {
          "output_type": "stream",
          "text": [
            "{48, 65, 45, 1}\n",
            "{65, 1, 36, 45, 48}\n",
            "{1}\n",
            "{48, 65, 1, 36, 45}\n",
            "{65, 1, 36, 45, 48}\n",
            "{65, 1, 36, 45, 48}\n",
            "{65, 36, 45}\n",
            "set functions \n",
            " a\n",
            "{65, 36, 45}\n",
            "{48, 1}\n",
            "{48, 65, 1, 36, 45}\n",
            "False\n"
          ],
          "name": "stdout"
        }
      ]
    },
    {
      "cell_type": "code",
      "metadata": {
        "colab": {
          "base_uri": "https://localhost:8080/"
        },
        "id": "H8r5DGOKcJ7I",
        "outputId": "ff4c06d3-b143-4bdc-8fe9-98294170862f"
      },
      "source": [
        "#tuple\n",
        "t = 12345, 54321, 'hello!'\n",
        "print(t[0])\n",
        "print(t)\n",
        "# Tuples may be nested:\n",
        "u = t, (1, 2, 3, 4, 5)\n",
        "print(u)\n",
        "# Tuples are immutable:\n",
        "print(\"t[0] = 88888 wont work\")\n",
        "# but they can contain mutable objects:\n",
        "v = ([1, 2, 3], [3, 2, 1])\n",
        "print(v)\n"
      ],
      "execution_count": null,
      "outputs": [
        {
          "output_type": "stream",
          "text": [
            "12345\n",
            "(12345, 54321, 'hello!')\n",
            "((12345, 54321, 'hello!'), (1, 2, 3, 4, 5))\n",
            "t[0] = 88888 wont work\n",
            "([1, 2, 3], [3, 2, 1])\n"
          ],
          "name": "stdout"
        }
      ]
    },
    {
      "cell_type": "code",
      "metadata": {
        "id": "60AMnPm-dR04",
        "colab": {
          "base_uri": "https://localhost:8080/"
        },
        "outputId": "90d27ead-26cc-4a37-a093-93525383abf7"
      },
      "source": [
        "# dictdictionary \n",
        "a = {\"a\":'animesh','b':'banimesh'}\n",
        "print(a)\n",
        "print(a['a'])\n",
        "print(a.get('a'))\n",
        "print(a.get(2))\n",
        "key = [1,2,3]\n",
        "value = [\"Animesh\",'Kiran','Kaustubh']\n",
        "data = dict(zip(key,value))\n",
        "print(data)\n",
        "course ={'Animesh':'Java','Kiran':['Java','Python'], 'Kaustubh':'Python'}\n",
        "print(course)\n",
        "print(course['Kiran'])\n",
        "print(course['Kiran'][1])"
      ],
      "execution_count": null,
      "outputs": [
        {
          "output_type": "stream",
          "text": [
            "{'a': 'animesh', 'b': 'banimesh'}\n",
            "animesh\n",
            "animesh\n",
            "None\n",
            "{1: 'Animesh', 2: 'Kiran', 3: 'Kaustubh'}\n",
            "{'Animesh': 'Java', 'Kiran': ['Java', 'Python'], 'Kaustubh': 'Python'}\n",
            "['Java', 'Python']\n",
            "Python\n"
          ],
          "name": "stdout"
        }
      ]
    },
    {
      "cell_type": "markdown",
      "metadata": {
        "id": "lqu3YzJUnYrf"
      },
      "source": [
        "Loops and decision making\n",
        "1. If"
      ]
    },
    {
      "cell_type": "code",
      "metadata": {
        "colab": {
          "base_uri": "https://localhost:8080/"
        },
        "id": "ELpWDrW1h_c1",
        "outputId": "635fd0d7-bdcb-4132-b2f1-87bd9b3e98fc"
      },
      "source": [
        "if(int(input('Enter a number'))>= 0):\n",
        "  print(\"It is positive\")\n",
        "else:\n",
        "  print('It is negative')"
      ],
      "execution_count": null,
      "outputs": [
        {
          "output_type": "stream",
          "text": [
            "Enter a number-9\n",
            "It is negative\n"
          ],
          "name": "stdout"
        }
      ]
    },
    {
      "cell_type": "code",
      "metadata": {
        "colab": {
          "base_uri": "https://localhost:8080/"
        },
        "id": "gwAWoyTyn5AG",
        "outputId": "e7e21d4c-c01f-4b62-8034-17ab1554b7fb"
      },
      "source": [
        " a = int(input('Enter a number'))\n",
        " if(a> 0):\n",
        "  print(\"It is positive\")\n",
        "elif(a == 0):\n",
        "  print(\"Its Zero\")\n",
        "else:\n",
        "  print('It is negative')"
      ],
      "execution_count": null,
      "outputs": [
        {
          "output_type": "stream",
          "text": [
            "Enter a number0\n",
            "Its Zero\n"
          ],
          "name": "stdout"
        }
      ]
    },
    {
      "cell_type": "code",
      "metadata": {
        "colab": {
          "base_uri": "https://localhost:8080/"
        },
        "id": "o4xv2L6Ypi7O",
        "outputId": "68c70bbd-a67b-433b-9f89-ea69d149b46e"
      },
      "source": [
        "#While loop\n",
        "a = 1\n",
        "while a<10:\n",
        "  print(a)\n",
        "  a=a+1"
      ],
      "execution_count": null,
      "outputs": [
        {
          "output_type": "stream",
          "text": [
            "1\n",
            "2\n",
            "3\n",
            "4\n",
            "5\n",
            "6\n",
            "7\n",
            "8\n",
            "9\n"
          ],
          "name": "stdout"
        }
      ]
    },
    {
      "cell_type": "code",
      "metadata": {
        "colab": {
          "base_uri": "https://localhost:8080/"
        },
        "id": "PUtuBgQ6pwyh",
        "outputId": "11c4d94b-db17-458c-e59e-a87c4cba3a32"
      },
      "source": [
        "#for loop\n",
        "x =['a',1,6,8,9]\n",
        "for i in x:\n",
        "  print(i)"
      ],
      "execution_count": null,
      "outputs": [
        {
          "output_type": "stream",
          "text": [
            "a\n",
            "1\n",
            "6\n",
            "8\n",
            "9\n"
          ],
          "name": "stdout"
        }
      ]
    },
    {
      "cell_type": "code",
      "metadata": {
        "colab": {
          "base_uri": "https://localhost:8080/"
        },
        "id": "cm8OxBYArXuQ",
        "outputId": "361940cc-415c-498c-c669-e0a35739f06a"
      },
      "source": [
        "#for loop\n",
        "x ='Animesh'\n",
        "for i in x:\n",
        "  print(i)"
      ],
      "execution_count": null,
      "outputs": [
        {
          "output_type": "stream",
          "text": [
            "A\n",
            "n\n",
            "i\n",
            "m\n",
            "e\n",
            "s\n",
            "h\n"
          ],
          "name": "stdout"
        }
      ]
    },
    {
      "cell_type": "code",
      "metadata": {
        "colab": {
          "base_uri": "https://localhost:8080/"
        },
        "id": "-oZWk-fkrjxT",
        "outputId": "74a13e91-2f51-4dd4-e954-75abe29e0b98"
      },
      "source": [
        "for i in range (20,10,-1):\n",
        "  print(i)"
      ],
      "execution_count": null,
      "outputs": [
        {
          "output_type": "stream",
          "text": [
            "20\n",
            "19\n",
            "18\n",
            "17\n",
            "16\n",
            "15\n",
            "14\n",
            "13\n",
            "12\n",
            "11\n"
          ],
          "name": "stdout"
        }
      ]
    },
    {
      "cell_type": "code",
      "metadata": {
        "id": "5d66RtL_r1kr"
      },
      "source": [
        "#functions\n",
        "def welcome(a):\n",
        "  print(\"Hello\")\n",
        "  print(a)"
      ],
      "execution_count": null,
      "outputs": []
    },
    {
      "cell_type": "code",
      "metadata": {
        "colab": {
          "base_uri": "https://localhost:8080/"
        },
        "id": "OPcZPDoasP6n",
        "outputId": "ae4f36ae-f41f-4f71-8943-aedd0b649284"
      },
      "source": [
        "welcome('Animesh')"
      ],
      "execution_count": null,
      "outputs": [
        {
          "output_type": "stream",
          "text": [
            "Hello\n",
            "Animesh\n"
          ],
          "name": "stdout"
        }
      ]
    },
    {
      "cell_type": "code",
      "metadata": {
        "id": "cuc79yV8sUUW"
      },
      "source": [
        "#class\n",
        "class User():\n",
        "  def __init__(self,name,ID):\n",
        "    self.name = name\n",
        "    self.ID = ID\n",
        "  def display(self):\n",
        "    print(\"Hello \")\n",
        "    print(self.name)"
      ],
      "execution_count": null,
      "outputs": []
    },
    {
      "cell_type": "code",
      "metadata": {
        "id": "QCYqPxd0vN6a"
      },
      "source": [
        "D = User('Animesh',1)"
      ],
      "execution_count": null,
      "outputs": []
    },
    {
      "cell_type": "code",
      "metadata": {
        "colab": {
          "base_uri": "https://localhost:8080/"
        },
        "id": "e2LRMNJivlL-",
        "outputId": "bdedac2b-cb29-46e8-8e01-7a6fea42ea76"
      },
      "source": [
        "D.display()"
      ],
      "execution_count": null,
      "outputs": [
        {
          "output_type": "stream",
          "text": [
            "Hello \n",
            "Animesh\n"
          ],
          "name": "stdout"
        }
      ]
    },
    {
      "cell_type": "code",
      "metadata": {
        "id": "-metbHmovn8m"
      },
      "source": [
        ""
      ],
      "execution_count": null,
      "outputs": []
    }
  ]
}